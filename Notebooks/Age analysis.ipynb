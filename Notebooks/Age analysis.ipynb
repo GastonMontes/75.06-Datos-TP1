{
 "cells": [
  {
   "cell_type": "markdown",
   "metadata": {},
   "source": [
    "# En este notebook se analiza el comportamiento de los diferentes grupos de postulantes de a cuerdo a sus edades. \n",
    "## Para esto se toman 3 grupos de postulantes: \n",
    "### - Los menores de 23 años (18 - 22 años).\n",
    "### - Los que se encuentran entre 23 años y 34 años inclusive (23 - 34 años).\n",
    "### - Los mayores de 35 años."
   ]
  },
  {
   "cell_type": "code",
   "execution_count": 1,
   "metadata": {
    "collapsed": true
   },
   "outputs": [],
   "source": [
    "# Se importan las librerías necesarias.\n",
    "import pandas as pd\n",
    "import numpy as np\n",
    "import matplotlib.pyplot as plt\n",
    "import datetime as datetime\n",
    "\n",
    "pd.options.mode.chained_assignment = None"
   ]
  },
  {
   "cell_type": "code",
   "execution_count": 2,
   "metadata": {
    "collapsed": true
   },
   "outputs": [],
   "source": [
    "# Se leen los dataframes.\n",
    "postulantesEducacion = pd.read_csv('../Data/fiuba_1_postulantes_educacion.csv')\n",
    "postulantesGeneroYEdad = pd.read_csv('../Data/fiuba_2_postulantes_genero_y_edad.csv')\n",
    "oportunidadVistas = pd.read_csv('../Data/fiuba_3_vistas.csv')\n",
    "oportunidadPostulaciones = pd.read_csv('../Data/fiuba_4_postulaciones.csv')\n",
    "avisosOnline = pd.read_csv('../Data/fiuba_5_avisos_online.csv')\n",
    "avisosDetalle = pd.read_csv('../Data/fiuba_6_avisos_detalle.csv')"
   ]
  },
  {
   "cell_type": "code",
   "execution_count": 3,
   "metadata": {},
   "outputs": [],
   "source": [
    "# Elimino los postulantes cuyos ids o fechas de nacimiento son nulas.\n",
    "\n",
    "# Elimino las filas que no tengan id del postulante.\n",
    "postulantesEducacion.dropna(subset = ['idpostulante'], inplace = True)\n",
    "postulantesGeneroYEdad.dropna(subset = ['idpostulante'], inplace = True)\n",
    "\n",
    "# Creo un nuevo dataframe con los postulantes que tengan fecha de nacimiento.\n",
    "postulantesConEdad = postulantesGeneroYEdad.dropna(subset=['fechanacimiento'])"
   ]
  },
  {
   "cell_type": "code",
   "execution_count": 4,
   "metadata": {},
   "outputs": [],
   "source": [
    "# Creo una nueva columna con la edad del postulante. Descarto los postulantes cuyas edades no pueden ser averiguadas.\n",
    "\n",
    "# Paso la columna fecha de nacimiento a un datetime.\n",
    "postulantesConEdad['fechanacimiento'] = pd.to_datetime(postulantesConEdad['fechanacimiento'], errors='coerce')\n",
    "\n",
    "# Creo la columna edad como diferencia entre la fecha actual y la fecha de nacimiento.\n",
    "fechaActual = pd.Timestamp(datetime.datetime.now())\n",
    "postulantesConEdad['edad'] = (fechaActual - postulantesConEdad['fechanacimiento']).astype('<m8[Y]')\n",
    "\n",
    "# Elimino los postulantes sin edades.\n",
    "postulantesConEdad.dropna(subset = ['edad'], inplace = True)\n",
    "\n",
    "# Descarto la columna fecha de nacimiento.\n",
    "postulantesConEdad.drop('fechanacimiento', 1, inplace = True)"
   ]
  },
  {
   "cell_type": "code",
   "execution_count": 20,
   "metadata": {},
   "outputs": [
    {
     "data": {
      "text/html": [
       "<div>\n",
       "<style>\n",
       "    .dataframe thead tr:only-child th {\n",
       "        text-align: right;\n",
       "    }\n",
       "\n",
       "    .dataframe thead th {\n",
       "        text-align: left;\n",
       "    }\n",
       "\n",
       "    .dataframe tbody tr th {\n",
       "        vertical-align: top;\n",
       "    }\n",
       "</style>\n",
       "<table border=\"1\" class=\"dataframe\">\n",
       "  <thead>\n",
       "    <tr style=\"text-align: right;\">\n",
       "      <th></th>\n",
       "      <th>idpostulante</th>\n",
       "      <th>sexo</th>\n",
       "      <th>edad</th>\n",
       "      <th>educacion</th>\n",
       "    </tr>\n",
       "  </thead>\n",
       "  <tbody>\n",
       "    <tr>\n",
       "      <th>290853</th>\n",
       "      <td>JBr3BAk</td>\n",
       "      <td>FEM</td>\n",
       "      <td>23.0</td>\n",
       "      <td>Universitario-En Curso</td>\n",
       "    </tr>\n",
       "    <tr>\n",
       "      <th>46594</th>\n",
       "      <td>EMQ5J2</td>\n",
       "      <td>FEM</td>\n",
       "      <td>35.0</td>\n",
       "      <td>Posgrado-Graduado</td>\n",
       "    </tr>\n",
       "    <tr>\n",
       "      <th>32084</th>\n",
       "      <td>EbpE48</td>\n",
       "      <td>FEM</td>\n",
       "      <td>28.0</td>\n",
       "      <td>Secundario-Graduado</td>\n",
       "    </tr>\n",
       "    <tr>\n",
       "      <th>245130</th>\n",
       "      <td>ekOrQJo</td>\n",
       "      <td>FEM</td>\n",
       "      <td>27.0</td>\n",
       "      <td>Otro-Graduado</td>\n",
       "    </tr>\n",
       "    <tr>\n",
       "      <th>159185</th>\n",
       "      <td>kP0Q50b</td>\n",
       "      <td>FEM</td>\n",
       "      <td>23.0</td>\n",
       "      <td>Universitario-En Curso</td>\n",
       "    </tr>\n",
       "    <tr>\n",
       "      <th>109736</th>\n",
       "      <td>EzZODDb</td>\n",
       "      <td>FEM</td>\n",
       "      <td>30.0</td>\n",
       "      <td>Terciario/Técnico-Graduado</td>\n",
       "    </tr>\n",
       "    <tr>\n",
       "      <th>50065</th>\n",
       "      <td>YKq16Y</td>\n",
       "      <td>FEM</td>\n",
       "      <td>32.0</td>\n",
       "      <td>Universitario-Abandonado</td>\n",
       "    </tr>\n",
       "    <tr>\n",
       "      <th>209844</th>\n",
       "      <td>1QkkpKB</td>\n",
       "      <td>FEM</td>\n",
       "      <td>27.0</td>\n",
       "      <td>Otro-En Curso</td>\n",
       "    </tr>\n",
       "    <tr>\n",
       "      <th>291517</th>\n",
       "      <td>0zPAEWq</td>\n",
       "      <td>FEM</td>\n",
       "      <td>27.0</td>\n",
       "      <td>Universitario-Graduado</td>\n",
       "    </tr>\n",
       "    <tr>\n",
       "      <th>72678</th>\n",
       "      <td>6r2BEA4</td>\n",
       "      <td>FEM</td>\n",
       "      <td>33.0</td>\n",
       "      <td>Universitario-En Curso</td>\n",
       "    </tr>\n",
       "    <tr>\n",
       "      <th>175168</th>\n",
       "      <td>3NdL4Bx</td>\n",
       "      <td>MASC</td>\n",
       "      <td>50.0</td>\n",
       "      <td>Universitario-Graduado</td>\n",
       "    </tr>\n",
       "    <tr>\n",
       "      <th>123117</th>\n",
       "      <td>akDElrm</td>\n",
       "      <td>MASC</td>\n",
       "      <td>33.0</td>\n",
       "      <td>Secundario-Graduado</td>\n",
       "    </tr>\n",
       "    <tr>\n",
       "      <th>156595</th>\n",
       "      <td>JBev4EJ</td>\n",
       "      <td>FEM</td>\n",
       "      <td>48.0</td>\n",
       "      <td>Secundario-Graduado</td>\n",
       "    </tr>\n",
       "    <tr>\n",
       "      <th>125600</th>\n",
       "      <td>zvPZrMJ</td>\n",
       "      <td>FEM</td>\n",
       "      <td>23.0</td>\n",
       "      <td>Universitario-En Curso</td>\n",
       "    </tr>\n",
       "    <tr>\n",
       "      <th>211846</th>\n",
       "      <td>DrJxo1K</td>\n",
       "      <td>MASC</td>\n",
       "      <td>22.0</td>\n",
       "      <td>Universitario-En Curso</td>\n",
       "    </tr>\n",
       "  </tbody>\n",
       "</table>\n",
       "</div>"
      ],
      "text/plain": [
       "       idpostulante  sexo  edad                   educacion\n",
       "290853      JBr3BAk   FEM  23.0      Universitario-En Curso\n",
       "46594        EMQ5J2   FEM  35.0           Posgrado-Graduado\n",
       "32084        EbpE48   FEM  28.0         Secundario-Graduado\n",
       "245130      ekOrQJo   FEM  27.0               Otro-Graduado\n",
       "159185      kP0Q50b   FEM  23.0      Universitario-En Curso\n",
       "109736      EzZODDb   FEM  30.0  Terciario/Técnico-Graduado\n",
       "50065        YKq16Y   FEM  32.0    Universitario-Abandonado\n",
       "209844      1QkkpKB   FEM  27.0               Otro-En Curso\n",
       "291517      0zPAEWq   FEM  27.0      Universitario-Graduado\n",
       "72678       6r2BEA4   FEM  33.0      Universitario-En Curso\n",
       "175168      3NdL4Bx  MASC  50.0      Universitario-Graduado\n",
       "123117      akDElrm  MASC  33.0         Secundario-Graduado\n",
       "156595      JBev4EJ   FEM  48.0         Secundario-Graduado\n",
       "125600      zvPZrMJ   FEM  23.0      Universitario-En Curso\n",
       "211846      DrJxo1K  MASC  22.0      Universitario-En Curso"
      ]
     },
     "execution_count": 20,
     "metadata": {},
     "output_type": "execute_result"
    }
   ],
   "source": [
    "# Creo un unico dataframe para los datos del postulante.\n",
    "\n",
    "# Renombro las columnas del dataframe de educacion a algo mas descriptivo.\n",
    "postulantesEducacion.rename(columns={'nombre': 'niveleducativo', 'estado': 'estadoniveleducation'}, inplace = True)\n",
    "\n",
    "# Hago un left join tomando todos los registros del dataframe que contiene la edad.\n",
    "postulantes = pd.merge(postulantesConEdad, postulantesEducacion, on = 'idpostulante', how = 'left')\n",
    "\n",
    "# Tomo los campos relacionado a lo educativo, los uno en uno solo y elimino las dos columnas no necesarias.\n",
    "postulantes['educacion'] = postulantes['niveleducativo'] + '-' + postulantes['estadoniveleducation']\n",
    "postulantes.drop('niveleducativo', 1, inplace = True)\n",
    "postulantes.drop('estadoniveleducation', 1, inplace = True)"
   ]
  },
  {
   "cell_type": "code",
   "execution_count": 6,
   "metadata": {},
   "outputs": [],
   "source": [
    "# Agrego al dataframe de detalles de aviso una columna que diga especifique si sigue online o esta offline.\n",
    "\n",
    "# Agrego una columna booleana al avisos online para que despues quede en el left merge.\n",
    "avisosOnline['online'] = True\n",
    "\n",
    "# Hago el merge entre los detalles y la tabla de online, luego completo los Nan de los offline con False.\n",
    "avisos = pd.merge(avisosDetalle, avisosOnline, on = 'idaviso', how = 'left')\n",
    "avisos['online'].fillna(False, inplace = True)"
   ]
  },
  {
   "cell_type": "markdown",
   "metadata": {},
   "source": [
    "# Teniendo los dataframe de avisos, postulantes, vistas de aviso y postulaciones de aviso se procede a dar respuestas a las siguientes preguntas:\n",
    "\n",
    "### 1) ¿Cuáles son las areas de trabajo mas visitadas por los diferentes grupos? ¿Y las menos visitadas?\n",
    "### 2) ¿Cuáles son las areas de trabajo que reciben mas postulaciones de los diferentes grupos?"
   ]
  },
  {
   "cell_type": "markdown",
   "metadata": {},
   "source": [
    "## Antes de empezar a responder las diferentes preguntas vamos a hacer un análisis demográfico de cada grupo:\n",
    "- Cuantos postulantes hay en cada grupo.\n",
    "- Como se conforman los diferentes grupos en cuanto a sexo.\n",
    "- Cual es el nivel educacional de cada grupo y de cada grupo dividido por sexo."
   ]
  },
  {
   "cell_type": "code",
   "execution_count": 16,
   "metadata": {
    "collapsed": true
   },
   "outputs": [],
   "source": [
    "# TODO: Gastón - Aca va el análisis demográfico."
   ]
  },
  {
   "cell_type": "markdown",
   "metadata": {},
   "source": [
    "### Antes de empezar a responder las preguntas creo los dataframe que voy a estar utilizando en el desarrollo de las mismas."
   ]
  },
  {
   "cell_type": "code",
   "execution_count": 97,
   "metadata": {},
   "outputs": [],
   "source": [
    "# Renombro la columna idAviso de las vistas a idaviso sin mayuscula así queda homogeneo.\n",
    "oportunidadVistas.rename(columns={'idAviso': 'idaviso'}, inplace = True)\n",
    "\n",
    "# Dataframe de vistas.\n",
    "vistas = pd.merge(oportunidadVistas, avisos, on = 'idaviso', how = 'left')\n",
    "vistas = pd.merge(vistas, postulantes, on = 'idpostulante', how = 'left')"
   ]
  },
  {
   "cell_type": "code",
   "execution_count": 103,
   "metadata": {},
   "outputs": [
    {
     "data": {
      "text/html": [
       "<div>\n",
       "<style>\n",
       "    .dataframe thead tr:only-child th {\n",
       "        text-align: right;\n",
       "    }\n",
       "\n",
       "    .dataframe thead th {\n",
       "        text-align: left;\n",
       "    }\n",
       "\n",
       "    .dataframe tbody tr th {\n",
       "        vertical-align: top;\n",
       "    }\n",
       "</style>\n",
       "<table border=\"1\" class=\"dataframe\">\n",
       "  <thead>\n",
       "    <tr style=\"text-align: right;\">\n",
       "      <th></th>\n",
       "      <th>nombre_area</th>\n",
       "      <th>edad</th>\n",
       "      <th>cantidad</th>\n",
       "    </tr>\n",
       "  </thead>\n",
       "  <tbody>\n",
       "    <tr>\n",
       "      <th>570744</th>\n",
       "      <td>Producción</td>\n",
       "      <td>31.0</td>\n",
       "      <td>1</td>\n",
       "    </tr>\n",
       "    <tr>\n",
       "      <th>951580</th>\n",
       "      <td>Call Center</td>\n",
       "      <td>27.0</td>\n",
       "      <td>1</td>\n",
       "    </tr>\n",
       "    <tr>\n",
       "      <th>319121</th>\n",
       "      <td>Ingeniería de Producto</td>\n",
       "      <td>28.0</td>\n",
       "      <td>1</td>\n",
       "    </tr>\n",
       "    <tr>\n",
       "      <th>1360875</th>\n",
       "      <td>Recepcionista</td>\n",
       "      <td>20.0</td>\n",
       "      <td>1</td>\n",
       "    </tr>\n",
       "    <tr>\n",
       "      <th>127834</th>\n",
       "      <td>Planeamiento comercial</td>\n",
       "      <td>52.0</td>\n",
       "      <td>1</td>\n",
       "    </tr>\n",
       "  </tbody>\n",
       "</table>\n",
       "</div>"
      ],
      "text/plain": [
       "                    nombre_area  edad  cantidad\n",
       "570744               Producción  31.0         1\n",
       "951580              Call Center  27.0         1\n",
       "319121   Ingeniería de Producto  28.0         1\n",
       "1360875           Recepcionista  20.0         1\n",
       "127834   Planeamiento comercial  52.0         1"
      ]
     },
     "execution_count": 103,
     "metadata": {},
     "output_type": "execute_result"
    }
   ],
   "source": [
    "# 1) ¿Cuáles son las areas de trabajo mas visitadas por los diferentes grupos? ¿Y las menos visitadas?\n",
    "\n",
    "# Tomo del dataframe de vistas el nombre de area y la edad solamente.\n",
    "areaVisitadas = vistas[['nombre_area', 'edad']]\n",
    "\n",
    "# Agrego una columna cantidad para que luego haga las veces de contador en el group by.\n",
    "areaVisitadas['cantidad'] = 1\n",
    "\n",
    "# Divido el dataframe en los 3 grupos de edades.\n",
    "areaVisitadas1 = areaVisitadas[areaVisitadas['edad'] < 23]\n",
    "areaVisitadas1.drop('edad', 1, inplace = True)\n",
    "\n",
    "areaVisitadas2 = areaVisitadas[(areaVisitadas['edad'] >= 23) & (areaVisitadas['edad'] < 35)]\n",
    "areaVisitadas2.drop('edad', 1, inplace = True)\n",
    "\n",
    "areaVisitadas3 = areaVisitadas[areaVisitadas['edad'] >= 35]\n",
    "areaVisitadas3.drop('edad', 1, inplace = True)\n",
    "\n",
    "# Agrupo segun el area.\n",
    "areaVisitadas1 = areaVisitadas1.groupby(['nombre_area']).count()\n",
    "areaVisitadas2 = areaVisitadas2.groupby(['nombre_area']).count()\n",
    "areaVisitadas3 = areaVisitadas3.groupby(['nombre_area']).count()\n",
    "\n",
    "# Ordeno de mayor a menor.\n",
    "areaVisitadas1 = areaVisitadas1.sort_values(by='cantidad', ascending = False)\n",
    "areaVisitadas2 = areaVisitadas2.sort_values(by='cantidad', ascending = False)\n",
    "areaVisitadas3 = areaVisitadas3.sort_values(by='cantidad', ascending = False)\n",
    "\n",
    "# Tomo las 10 areas mas visitadas y las menos visitadas de cada grupo.\n",
    "areaMasVisitadas1 = areaVisitadas1.head(10)\n",
    "areaMenosVisitadas1 = areaVisitadas1.tail(10)\n",
    "\n",
    "areaMasVisitadas2 = areaVisitadas2.head(10)\n",
    "areaMenosVisitadas2 = areaVisitadas2.tail(10)\n",
    "\n",
    "areaMasVisitadas3 = areaVisitadas3.head(10)\n",
    "areaMenosVisitadas3 = areaVisitadas3.tail(10)"
   ]
  },
  {
   "cell_type": "code",
   "execution_count": null,
   "metadata": {
    "collapsed": true
   },
   "outputs": [],
   "source": []
  },
  {
   "cell_type": "code",
   "execution_count": null,
   "metadata": {
    "collapsed": true
   },
   "outputs": [],
   "source": []
  }
 ],
 "metadata": {
  "kernelspec": {
   "display_name": "Python 2",
   "language": "python",
   "name": "python2"
  },
  "language_info": {
   "codemirror_mode": {
    "name": "ipython",
    "version": 2
   },
   "file_extension": ".py",
   "mimetype": "text/x-python",
   "name": "python",
   "nbconvert_exporter": "python",
   "pygments_lexer": "ipython2",
   "version": "2.7.13"
  }
 },
 "nbformat": 4,
 "nbformat_minor": 2
}
