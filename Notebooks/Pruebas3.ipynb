{
 "cells": [
  {
   "cell_type": "code",
   "execution_count": 290,
   "metadata": {},
   "outputs": [],
   "source": [
    "#Importamos las librerias\n",
    "import pandas as pd\n",
    "import numpy as np\n",
    "import matplotlib.pyplot as plt\n",
    "import datetime as DT\n",
    "\n"
   ]
  },
  {
   "cell_type": "code",
   "execution_count": 291,
   "metadata": {},
   "outputs": [],
   "source": [
    "#Cargamos los datos en dataframes\n",
    "educacion=pd.read_csv('fiuba_1_postulantes_educacion.csv')\n",
    "genero_edad=pd.read_csv('fiuba_2_postulantes_genero_y_edad.csv')\n",
    "vistas=pd.read_csv('fiuba_3_vistas.csv')\n",
    "postulaciones=pd.read_csv('fiuba_4_postulaciones.csv')\n",
    "avisos_online=pd.read_csv('fiuba_5_avisos_online.csv')\n",
    "avisos_detalle=pd.read_csv('fiuba_6_avisos_detalle.csv')\n",
    "\n"
   ]
  },
  {
   "cell_type": "code",
   "execution_count": 292,
   "metadata": {},
   "outputs": [
    {
     "name": "stdout",
     "output_type": "stream",
     "text": [
      "<class 'pandas.core.frame.DataFrame'>\n",
      "RangeIndex: 298231 entries, 0 to 298230\n",
      "Data columns (total 3 columns):\n",
      "idpostulante    298231 non-null object\n",
      "nombre          298231 non-null object\n",
      "estado          298231 non-null object\n",
      "dtypes: object(3)\n",
      "memory usage: 6.8+ MB\n"
     ]
    }
   ],
   "source": [
    "educacion.info()"
   ]
  },
  {
   "cell_type": "code",
   "execution_count": 293,
   "metadata": {},
   "outputs": [
    {
     "name": "stdout",
     "output_type": "stream",
     "text": [
      "<class 'pandas.core.frame.DataFrame'>\n",
      "RangeIndex: 200888 entries, 0 to 200887\n",
      "Data columns (total 3 columns):\n",
      "idpostulante       200888 non-null object\n",
      "fechanacimiento    196138 non-null object\n",
      "sexo               200888 non-null object\n",
      "dtypes: object(3)\n",
      "memory usage: 4.6+ MB\n"
     ]
    }
   ],
   "source": [
    "genero_edad.info()"
   ]
  },
  {
   "cell_type": "code",
   "execution_count": 294,
   "metadata": {},
   "outputs": [
    {
     "name": "stdout",
     "output_type": "stream",
     "text": [
      "<class 'pandas.core.frame.DataFrame'>\n",
      "RangeIndex: 3401623 entries, 0 to 3401622\n",
      "Data columns (total 3 columns):\n",
      "idaviso             int64\n",
      "idpostulante        object\n",
      "fechapostulacion    object\n",
      "dtypes: int64(1), object(2)\n",
      "memory usage: 77.9+ MB\n"
     ]
    }
   ],
   "source": [
    "postulaciones.info()"
   ]
  },
  {
   "cell_type": "code",
   "execution_count": 295,
   "metadata": {},
   "outputs": [
    {
     "name": "stdout",
     "output_type": "stream",
     "text": [
      "<class 'pandas.core.frame.DataFrame'>\n",
      "RangeIndex: 961897 entries, 0 to 961896\n",
      "Data columns (total 3 columns):\n",
      "idAviso         961897 non-null int64\n",
      "timestamp       961897 non-null object\n",
      "idpostulante    961897 non-null object\n",
      "dtypes: int64(1), object(2)\n",
      "memory usage: 22.0+ MB\n"
     ]
    }
   ],
   "source": [
    "vistas.info()"
   ]
  },
  {
   "cell_type": "code",
   "execution_count": 296,
   "metadata": {},
   "outputs": [
    {
     "name": "stdout",
     "output_type": "stream",
     "text": [
      "<class 'pandas.core.frame.DataFrame'>\n",
      "RangeIndex: 13534 entries, 0 to 13533\n",
      "Data columns (total 11 columns):\n",
      "idaviso                 13534 non-null int64\n",
      "idpais                  13534 non-null int64\n",
      "titulo                  13534 non-null object\n",
      "descripcion             13534 non-null object\n",
      "nombre_zona             13534 non-null object\n",
      "ciudad                  47 non-null object\n",
      "mapacalle               872 non-null object\n",
      "tipo_de_trabajo         13534 non-null object\n",
      "nivel_laboral           13534 non-null object\n",
      "nombre_area             13534 non-null object\n",
      "denominacion_empresa    13529 non-null object\n",
      "dtypes: int64(2), object(9)\n",
      "memory usage: 1.1+ MB\n"
     ]
    }
   ],
   "source": [
    "avisos_detalle.info()"
   ]
  },
  {
   "cell_type": "code",
   "execution_count": 297,
   "metadata": {},
   "outputs": [
    {
     "name": "stdout",
     "output_type": "stream",
     "text": [
      "<class 'pandas.core.frame.DataFrame'>\n",
      "RangeIndex: 5028 entries, 0 to 5027\n",
      "Data columns (total 1 columns):\n",
      "idaviso    5028 non-null int64\n",
      "dtypes: int64(1)\n",
      "memory usage: 39.4 KB\n"
     ]
    }
   ],
   "source": [
    "avisos_online.info()"
   ]
  },
  {
   "cell_type": "code",
   "execution_count": 298,
   "metadata": {},
   "outputs": [],
   "source": [
    "#Cambiamos los nombres de las columnas para que sea más sencillo identificarlas\n",
    "educacion.rename(columns={'nombre':'Nivel','estado':'Estado'},inplace=True)\n",
    "genero_edad.rename(columns={'fechanacimiento':'Fecha_Nacimiento','sexo':'Sexo'},inplace=True)\n",
    "vistas.rename(columns={'idAviso':'idaviso','timestamp':'Fecha_Vista'},inplace=True)\n",
    "postulaciones.rename(columns={'fechapostulacion':'Fecha_Postulacion'},inplace=True)\n",
    "avisos_detalle.rename(columns={'titulo':'Titulo','descripcion':'Descripcion','nombre_zona':'Zona','ciudad':'Ciudad','tipo_de_trabajo':'Tipo_de_Trabajo','nivel_laboral':'Nivel_Laboral','nombre_area':'Nombre_Area'},inplace=True)"
   ]
  },
  {
   "cell_type": "code",
   "execution_count": 299,
   "metadata": {},
   "outputs": [],
   "source": [
    "#Realizamos la convesion de las fechas\n",
    "postulaciones['Fecha_Postulacion']=pd.to_datetime(postulaciones['Fecha_Postulacion'])\n",
    "vistas['Fecha_Vista']=pd.to_datetime(vistas['Fecha_Vista'])\n",
    "genero_edad['Fecha_Nacimiento'] = pd.to_datetime(genero_edad['Fecha_Nacimiento'],errors='coerce')"
   ]
  },
  {
   "cell_type": "code",
   "execution_count": 300,
   "metadata": {},
   "outputs": [],
   "source": [
    "#Agrego la columna edad al DF de genero y edad\n",
    "hoy = pd.Timestamp(DT.datetime.now())\n",
    "genero_edad['Edad'] = (hoy - genero_edad['Fecha_Nacimiento']).astype('<m8[Y]')"
   ]
  },
  {
   "cell_type": "markdown",
   "metadata": {},
   "source": [
    "## Relacion vistas/postulacion por edad"
   ]
  },
  {
   "cell_type": "markdown",
   "metadata": {},
   "source": [
    "Aqui analizaremos la cantidad de vistas que cada postulante realizo a cada aviso antes de realizar una postulacion a dicho aviso. Es decir que en el calculo del promedio de visitas no se tendran en cuenta las visitas realizadas a avisos a los que no se realizaron postulaciones."
   ]
  },
  {
   "cell_type": "code",
   "execution_count": 301,
   "metadata": {},
   "outputs": [
    {
     "data": {
      "text/html": [
       "<div>\n",
       "<style scoped>\n",
       "    .dataframe tbody tr th:only-of-type {\n",
       "        vertical-align: middle;\n",
       "    }\n",
       "\n",
       "    .dataframe tbody tr th {\n",
       "        vertical-align: top;\n",
       "    }\n",
       "\n",
       "    .dataframe thead th {\n",
       "        text-align: right;\n",
       "    }\n",
       "</style>\n",
       "<table border=\"1\" class=\"dataframe\">\n",
       "  <thead>\n",
       "    <tr style=\"text-align: right;\">\n",
       "      <th></th>\n",
       "      <th>idaviso</th>\n",
       "      <th>idpostulante</th>\n",
       "      <th>Fecha_Postulacion</th>\n",
       "      <th>Fecha_Vista</th>\n",
       "    </tr>\n",
       "  </thead>\n",
       "  <tbody>\n",
       "    <tr>\n",
       "      <th>0</th>\n",
       "      <td>1112302347</td>\n",
       "      <td>5awk</td>\n",
       "      <td>2018-02-07 20:49:22</td>\n",
       "      <td>2018-02-28 20:58:43.325</td>\n",
       "    </tr>\n",
       "    <tr>\n",
       "      <th>1</th>\n",
       "      <td>1112302347</td>\n",
       "      <td>5awk</td>\n",
       "      <td>2018-02-07 20:49:22</td>\n",
       "      <td>2018-02-28 21:24:58.746</td>\n",
       "    </tr>\n",
       "    <tr>\n",
       "      <th>2</th>\n",
       "      <td>1112302347</td>\n",
       "      <td>5awk</td>\n",
       "      <td>2018-02-07 20:49:22</td>\n",
       "      <td>2018-02-28 21:24:59.443</td>\n",
       "    </tr>\n",
       "    <tr>\n",
       "      <th>3</th>\n",
       "      <td>1112303543</td>\n",
       "      <td>5awk</td>\n",
       "      <td>2018-02-18 23:49:34</td>\n",
       "      <td>2018-02-28 21:13:27.505</td>\n",
       "    </tr>\n",
       "    <tr>\n",
       "      <th>4</th>\n",
       "      <td>1112303543</td>\n",
       "      <td>5awk</td>\n",
       "      <td>2018-02-18 23:49:34</td>\n",
       "      <td>2018-02-28 21:13:28.590</td>\n",
       "    </tr>\n",
       "  </tbody>\n",
       "</table>\n",
       "</div>"
      ],
      "text/plain": [
       "      idaviso idpostulante   Fecha_Postulacion             Fecha_Vista\n",
       "0  1112302347         5awk 2018-02-07 20:49:22 2018-02-28 20:58:43.325\n",
       "1  1112302347         5awk 2018-02-07 20:49:22 2018-02-28 21:24:58.746\n",
       "2  1112302347         5awk 2018-02-07 20:49:22 2018-02-28 21:24:59.443\n",
       "3  1112303543         5awk 2018-02-18 23:49:34 2018-02-28 21:13:27.505\n",
       "4  1112303543         5awk 2018-02-18 23:49:34 2018-02-28 21:13:28.590"
      ]
     },
     "execution_count": 301,
     "metadata": {},
     "output_type": "execute_result"
    }
   ],
   "source": [
    "#realizamos un merge entre los df de postulaciones y de area, para tener en un solo df las fechas de vistas\n",
    "#y la de postulacion. \n",
    "\n",
    "vistas_postulaciones_merged = pd.merge(postulaciones,vistas, on = ['idaviso','idpostulante'], how='inner')\n",
    "vistas_postulaciones_merged.head()"
   ]
  },
  {
   "cell_type": "code",
   "execution_count": 302,
   "metadata": {
    "scrolled": true
   },
   "outputs": [
    {
     "data": {
      "text/html": [
       "<div>\n",
       "<style scoped>\n",
       "    .dataframe tbody tr th:only-of-type {\n",
       "        vertical-align: middle;\n",
       "    }\n",
       "\n",
       "    .dataframe tbody tr th {\n",
       "        vertical-align: top;\n",
       "    }\n",
       "\n",
       "    .dataframe thead th {\n",
       "        text-align: right;\n",
       "    }\n",
       "</style>\n",
       "<table border=\"1\" class=\"dataframe\">\n",
       "  <thead>\n",
       "    <tr style=\"text-align: right;\">\n",
       "      <th></th>\n",
       "      <th>idpostulante</th>\n",
       "      <th>vistas/postulacion</th>\n",
       "    </tr>\n",
       "  </thead>\n",
       "  <tbody>\n",
       "    <tr>\n",
       "      <th>0</th>\n",
       "      <td>0zB03O9</td>\n",
       "      <td>2.6875</td>\n",
       "    </tr>\n",
       "    <tr>\n",
       "      <th>1</th>\n",
       "      <td>0zB0YGv</td>\n",
       "      <td>2.6000</td>\n",
       "    </tr>\n",
       "    <tr>\n",
       "      <th>2</th>\n",
       "      <td>0zB0xL1</td>\n",
       "      <td>1.0000</td>\n",
       "    </tr>\n",
       "    <tr>\n",
       "      <th>3</th>\n",
       "      <td>0zB11wr</td>\n",
       "      <td>1.0000</td>\n",
       "    </tr>\n",
       "    <tr>\n",
       "      <th>4</th>\n",
       "      <td>0zB16Dr</td>\n",
       "      <td>1.0000</td>\n",
       "    </tr>\n",
       "  </tbody>\n",
       "</table>\n",
       "</div>"
      ],
      "text/plain": [
       "  idpostulante  vistas/postulacion\n",
       "0      0zB03O9              2.6875\n",
       "1      0zB0YGv              2.6000\n",
       "2      0zB0xL1              1.0000\n",
       "3      0zB11wr              1.0000\n",
       "4      0zB16Dr              1.0000"
      ]
     },
     "execution_count": 302,
     "metadata": {},
     "output_type": "execute_result"
    }
   ],
   "source": [
    "#Aqui obtenemos un DF cuyas columnas son el id del postulante y el otro la cantidad de vistas promedio por cada aviso\n",
    "#al que realizaron una postulacion. \n",
    "\n",
    "vistas_por_postulacion = vistas_postulaciones_merged.groupby(['idpostulante','idaviso'])\\\n",
    "                    .agg({'Fecha_Postulacion':'count'})\\\n",
    "                    .groupby('idpostulante').agg({'Fecha_Postulacion':'mean'})\n",
    "        \n",
    "vistas_por_postulacion.rename(columns = {'Fecha_Postulacion':'vistas/postulacion'}, inplace = True)\n",
    "vistas_por_postulacion.reset_index(inplace = True)\n",
    "vistas_por_postulacion.head()"
   ]
  },
  {
   "cell_type": "code",
   "execution_count": 303,
   "metadata": {},
   "outputs": [
    {
     "data": {
      "text/html": [
       "<div>\n",
       "<style scoped>\n",
       "    .dataframe tbody tr th:only-of-type {\n",
       "        vertical-align: middle;\n",
       "    }\n",
       "\n",
       "    .dataframe tbody tr th {\n",
       "        vertical-align: top;\n",
       "    }\n",
       "\n",
       "    .dataframe thead th {\n",
       "        text-align: right;\n",
       "    }\n",
       "</style>\n",
       "<table border=\"1\" class=\"dataframe\">\n",
       "  <thead>\n",
       "    <tr style=\"text-align: right;\">\n",
       "      <th></th>\n",
       "      <th>Edad_postulante</th>\n",
       "      <th>vistas/postulacion</th>\n",
       "    </tr>\n",
       "  </thead>\n",
       "  <tbody>\n",
       "    <tr>\n",
       "      <th>0</th>\n",
       "      <td>55.0</td>\n",
       "      <td>2.200000</td>\n",
       "    </tr>\n",
       "    <tr>\n",
       "      <th>1</th>\n",
       "      <td>39.0</td>\n",
       "      <td>1.000000</td>\n",
       "    </tr>\n",
       "    <tr>\n",
       "      <th>2</th>\n",
       "      <td>48.0</td>\n",
       "      <td>3.000000</td>\n",
       "    </tr>\n",
       "    <tr>\n",
       "      <th>3</th>\n",
       "      <td>51.0</td>\n",
       "      <td>1.333333</td>\n",
       "    </tr>\n",
       "    <tr>\n",
       "      <th>4</th>\n",
       "      <td>41.0</td>\n",
       "      <td>1.000000</td>\n",
       "    </tr>\n",
       "  </tbody>\n",
       "</table>\n",
       "</div>"
      ],
      "text/plain": [
       "   Edad_postulante  vistas/postulacion\n",
       "0             55.0            2.200000\n",
       "1             39.0            1.000000\n",
       "2             48.0            3.000000\n",
       "3             51.0            1.333333\n",
       "4             41.0            1.000000"
      ]
     },
     "execution_count": 303,
     "metadata": {},
     "output_type": "execute_result"
    }
   ],
   "source": [
    "#Aqui obtenemos un DF en el que se ve la Edad del postulante y su promedio de vistas por postulacion\n",
    "\n",
    "vistas_por_postulacion_edad = pd.merge(genero_edad,vistas_por_postulacion,on='idpostulante',how = 'inner')[['Edad','vistas/postulacion']]\n",
    "vistas_por_postulacion_edad.rename(columns={'Edad':'Edad_postulante'}, inplace = True)\n",
    "vistas_por_postulacion_edad.head()"
   ]
  },
  {
   "cell_type": "code",
   "execution_count": 304,
   "metadata": {
    "scrolled": false
   },
   "outputs": [
    {
     "data": {
      "text/html": [
       "<div>\n",
       "<style scoped>\n",
       "    .dataframe tbody tr th:only-of-type {\n",
       "        vertical-align: middle;\n",
       "    }\n",
       "\n",
       "    .dataframe tbody tr th {\n",
       "        vertical-align: top;\n",
       "    }\n",
       "\n",
       "    .dataframe thead th {\n",
       "        text-align: right;\n",
       "    }\n",
       "</style>\n",
       "<table border=\"1\" class=\"dataframe\">\n",
       "  <thead>\n",
       "    <tr style=\"text-align: right;\">\n",
       "      <th></th>\n",
       "      <th>Edad_postulante</th>\n",
       "      <th>promedio vistas/postulacion</th>\n",
       "      <th>cantidad de postulantes</th>\n",
       "    </tr>\n",
       "  </thead>\n",
       "  <tbody>\n",
       "    <tr>\n",
       "      <th>0</th>\n",
       "      <td>18.0</td>\n",
       "      <td>1.841771</td>\n",
       "      <td>960</td>\n",
       "    </tr>\n",
       "    <tr>\n",
       "      <th>1</th>\n",
       "      <td>19.0</td>\n",
       "      <td>1.853165</td>\n",
       "      <td>1963</td>\n",
       "    </tr>\n",
       "    <tr>\n",
       "      <th>2</th>\n",
       "      <td>20.0</td>\n",
       "      <td>1.740222</td>\n",
       "      <td>2548</td>\n",
       "    </tr>\n",
       "    <tr>\n",
       "      <th>3</th>\n",
       "      <td>21.0</td>\n",
       "      <td>1.809068</td>\n",
       "      <td>3225</td>\n",
       "    </tr>\n",
       "    <tr>\n",
       "      <th>4</th>\n",
       "      <td>22.0</td>\n",
       "      <td>1.795739</td>\n",
       "      <td>3744</td>\n",
       "    </tr>\n",
       "  </tbody>\n",
       "</table>\n",
       "</div>"
      ],
      "text/plain": [
       "   Edad_postulante  promedio vistas/postulacion  cantidad de postulantes\n",
       "0             18.0                     1.841771                      960\n",
       "1             19.0                     1.853165                     1963\n",
       "2             20.0                     1.740222                     2548\n",
       "3             21.0                     1.809068                     3225\n",
       "4             22.0                     1.795739                     3744"
      ]
     },
     "execution_count": 304,
     "metadata": {},
     "output_type": "execute_result"
    }
   ],
   "source": [
    "#Para poder graficar el promedio basado en la edad realizamos un groupby por Edad y calculamos el promedio de \n",
    "#la columna promedio vistas/postulacion. Luego, desechamos aquellas edades para las que no contemos con la cantidad\n",
    "#suficiente de postulantes como para realizar un analisis significativo.\n",
    "\n",
    "vistas_por_postulacion_promedio_edad = vistas_por_postulacion_edad.groupby('Edad_postulante')\\\n",
    "                                        .agg({'vistas/postulacion':['mean','count']})\n",
    "\n",
    "vistas_por_postulacion_promedio_edad.columns=['promedio vistas/postulacion', 'cantidad de postulantes']\n",
    "vistas_por_postulacion_promedio_edad = vistas_por_postulacion_promedio_edad.loc[vistas_por_postulacion_promedio_edad['cantidad de postulantes']>100]\n",
    "vistas_por_postulacion_promedio_edad.reset_index(inplace = True)\n",
    "vistas_por_postulacion_promedio_edad.head()"
   ]
  },
  {
   "cell_type": "code",
   "execution_count": 305,
   "metadata": {},
   "outputs": [
    {
     "data": {
      "text/plain": [
       "Text(0,0.5,'Promedio vistas/postulacion')"
      ]
     },
     "execution_count": 305,
     "metadata": {},
     "output_type": "execute_result"
    },
    {
     "data": {
      "image/png": "[encoded data removed]",
      "text/plain": [
       "<Figure size 432x288 with 1 Axes>"
      ]
     },
     "metadata": {},
     "output_type": "display_data"
    }
   ],
   "source": [
    "promedio_vistas_por_postulacion_por_edad_plot = vistas_por_postulacion_promedio_edad.plot(\n",
    "                                                 kind = 'line',\n",
    "                                                 x = 'Edad_postulante',\n",
    "                                                 y = 'promedio vistas/postulacion',\n",
    "                                                 fontsize = 20)\n",
    "\n",
    "promedio_vistas_por_postulacion_por_edad_plot.set_title('Promedio de vistas por postulacion basado en Edad',\n",
    "                                                        fontsize = 20)\n",
    "\n",
    "promedio_vistas_por_postulacion_por_edad_plot.set_xlabel('Edad postulantes',fontsize = 12)\n",
    "\n",
    "promedio_vistas_por_postulacion_por_edad_plot.set_ylabel('Promedio vistas/postulacion', fontsize = 12)\n"
   ]
  },
  {
   "cell_type": "markdown",
   "metadata": {},
   "source": [
    "Los datos nos permiten graficar el promedio de vistas por postulacion promedio para las edades desde 18 a 60, ya que para las demas edades, no consideramos contar con datos suficientes.\n",
    "Se puede observar que a medida que la edad de los postulantes aumenta, tambien puede apreciarse un aumento en el promedio de las vistas por postulacion. Una posible interpretacion de este grafico es que a medida de que la edad de los postulantes tienden leer o analizar mas los avisos a los que se postulan.\n",
    "Cabe destacar que aqui no analizamos si la vistas a los avisos se realizaron antes o despues de postularse.\n",
    "La interpretacion anterior puede apreciarse de mejor manera si agrupamos las edades de los postulantes en categorias, de 5 en 5 años.\n"
   ]
  },
  {
   "cell_type": "code",
   "execution_count": 306,
   "metadata": {},
   "outputs": [
    {
     "data": {
      "text/html": [
       "<div>\n",
       "<style scoped>\n",
       "    .dataframe tbody tr th:only-of-type {\n",
       "        vertical-align: middle;\n",
       "    }\n",
       "\n",
       "    .dataframe tbody tr th {\n",
       "        vertical-align: top;\n",
       "    }\n",
       "\n",
       "    .dataframe thead th {\n",
       "        text-align: right;\n",
       "    }\n",
       "</style>\n",
       "<table border=\"1\" class=\"dataframe\">\n",
       "  <thead>\n",
       "    <tr style=\"text-align: right;\">\n",
       "      <th></th>\n",
       "      <th>Edad_postulante</th>\n",
       "      <th>promedio vistas/postulacion</th>\n",
       "      <th>cantidad de postulantes</th>\n",
       "    </tr>\n",
       "  </thead>\n",
       "  <tbody>\n",
       "    <tr>\n",
       "      <th>0</th>\n",
       "      <td>(15, 20]</td>\n",
       "      <td>1.798546</td>\n",
       "      <td>5517</td>\n",
       "    </tr>\n",
       "    <tr>\n",
       "      <th>1</th>\n",
       "      <td>(20, 25]</td>\n",
       "      <td>1.793248</td>\n",
       "      <td>19277</td>\n",
       "    </tr>\n",
       "    <tr>\n",
       "      <th>2</th>\n",
       "      <td>(25, 30]</td>\n",
       "      <td>1.836353</td>\n",
       "      <td>19158</td>\n",
       "    </tr>\n",
       "    <tr>\n",
       "      <th>3</th>\n",
       "      <td>(30, 35]</td>\n",
       "      <td>1.942561</td>\n",
       "      <td>12404</td>\n",
       "    </tr>\n",
       "    <tr>\n",
       "      <th>4</th>\n",
       "      <td>(35, 40]</td>\n",
       "      <td>2.006510</td>\n",
       "      <td>7979</td>\n",
       "    </tr>\n",
       "  </tbody>\n",
       "</table>\n",
       "</div>"
      ],
      "text/plain": [
       "  Edad_postulante  promedio vistas/postulacion  cantidad de postulantes\n",
       "0        (15, 20]                     1.798546                     5517\n",
       "1        (20, 25]                     1.793248                    19277\n",
       "2        (25, 30]                     1.836353                    19158\n",
       "3        (30, 35]                     1.942561                    12404\n",
       "4        (35, 40]                     2.006510                     7979"
      ]
     },
     "execution_count": 306,
     "metadata": {},
     "output_type": "execute_result"
    }
   ],
   "source": [
    "vistas_por_postulacion_edad['Edad_postulante'] = pd.cut(vistas_por_postulacion_edad['Edad_postulante'],[15,20,25,30,35,40,45,50,55,60,65,70,75,80])\n",
    "vistas_por_postulacion_promedio_edad = vistas_por_postulacion_edad.groupby('Edad_postulante')\\\n",
    "                                        .agg({'vistas/postulacion':['mean','count']})\n",
    "\n",
    "vistas_por_postulacion_promedio_edad.columns=['promedio vistas/postulacion', 'cantidad de postulantes']\n",
    "vistas_por_postulacion_promedio_edad = vistas_por_postulacion_promedio_edad.loc[vistas_por_postulacion_promedio_edad['cantidad de postulantes']>500]\n",
    "vistas_por_postulacion_promedio_edad.reset_index(inplace = True)\n",
    "vistas_por_postulacion_promedio_edad.head()"
   ]
  },
  {
   "cell_type": "code",
   "execution_count": 307,
   "metadata": {},
   "outputs": [
    {
     "data": {
      "text/html": [
       "<div>\n",
       "<style scoped>\n",
       "    .dataframe tbody tr th:only-of-type {\n",
       "        vertical-align: middle;\n",
       "    }\n",
       "\n",
       "    .dataframe tbody tr th {\n",
       "        vertical-align: top;\n",
       "    }\n",
       "\n",
       "    .dataframe thead th {\n",
       "        text-align: right;\n",
       "    }\n",
       "</style>\n",
       "<table border=\"1\" class=\"dataframe\">\n",
       "  <thead>\n",
       "    <tr style=\"text-align: right;\">\n",
       "      <th></th>\n",
       "      <th>Edad_postulante</th>\n",
       "      <th>promedio vistas/postulacion</th>\n",
       "      <th>cantidad de postulantes</th>\n",
       "    </tr>\n",
       "  </thead>\n",
       "  <tbody>\n",
       "    <tr>\n",
       "      <th>0</th>\n",
       "      <td>(15, 20]</td>\n",
       "      <td>1.798546</td>\n",
       "      <td>5517</td>\n",
       "    </tr>\n",
       "    <tr>\n",
       "      <th>1</th>\n",
       "      <td>(20, 25]</td>\n",
       "      <td>1.793248</td>\n",
       "      <td>19277</td>\n",
       "    </tr>\n",
       "    <tr>\n",
       "      <th>2</th>\n",
       "      <td>(25, 30]</td>\n",
       "      <td>1.836353</td>\n",
       "      <td>19158</td>\n",
       "    </tr>\n",
       "    <tr>\n",
       "      <th>3</th>\n",
       "      <td>(30, 35]</td>\n",
       "      <td>1.942561</td>\n",
       "      <td>12404</td>\n",
       "    </tr>\n",
       "    <tr>\n",
       "      <th>4</th>\n",
       "      <td>(35, 40]</td>\n",
       "      <td>2.006510</td>\n",
       "      <td>7979</td>\n",
       "    </tr>\n",
       "    <tr>\n",
       "      <th>5</th>\n",
       "      <td>(40, 45]</td>\n",
       "      <td>2.115577</td>\n",
       "      <td>4422</td>\n",
       "    </tr>\n",
       "    <tr>\n",
       "      <th>6</th>\n",
       "      <td>(45, 50]</td>\n",
       "      <td>2.113613</td>\n",
       "      <td>2656</td>\n",
       "    </tr>\n",
       "    <tr>\n",
       "      <th>7</th>\n",
       "      <td>(50, 55]</td>\n",
       "      <td>2.208163</td>\n",
       "      <td>1451</td>\n",
       "    </tr>\n",
       "    <tr>\n",
       "      <th>8</th>\n",
       "      <td>(55, 60]</td>\n",
       "      <td>2.129035</td>\n",
       "      <td>740</td>\n",
       "    </tr>\n",
       "  </tbody>\n",
       "</table>\n",
       "</div>"
      ],
      "text/plain": [
       "  Edad_postulante  promedio vistas/postulacion  cantidad de postulantes\n",
       "0        (15, 20]                     1.798546                     5517\n",
       "1        (20, 25]                     1.793248                    19277\n",
       "2        (25, 30]                     1.836353                    19158\n",
       "3        (30, 35]                     1.942561                    12404\n",
       "4        (35, 40]                     2.006510                     7979\n",
       "5        (40, 45]                     2.115577                     4422\n",
       "6        (45, 50]                     2.113613                     2656\n",
       "7        (50, 55]                     2.208163                     1451\n",
       "8        (55, 60]                     2.129035                      740"
      ]
     },
     "execution_count": 307,
     "metadata": {},
     "output_type": "execute_result"
    }
   ],
   "source": [
    "vistas_por_postulacion_promedio_edad"
   ]
  },
  {
   "cell_type": "code",
   "execution_count": 308,
   "metadata": {},
   "outputs": [
    {
     "data": {
      "text/plain": [
       "Text(0,0.5,'Promedio vistas/postulacion')"
      ]
     },
     "execution_count": 308,
     "metadata": {},
     "output_type": "execute_result"
    },
    {
     "data": {
      "image/png": "[encoded data removed]",
      "text/plain": [
       "<Figure size 432x288 with 1 Axes>"
      ]
     },
     "metadata": {},
     "output_type": "display_data"
    }
   ],
   "source": [
    "promedio_vistas_por_postulacion_por_edad_plot = vistas_por_postulacion_promedio_edad.plot(\n",
    "                                                 kind = 'bar',\n",
    "                                                 x = 'Edad_postulante',\n",
    "                                                 y = 'promedio vistas/postulacion',\n",
    "                                                 color = ['coral','olive','teal','indigo'],\n",
    "                                                 fontsize = 12)\n",
    "\n",
    "promedio_vistas_por_postulacion_por_edad_plot.set_title('Promedio de vistas por postulacion basado en Edad',\n",
    "                                                        fontsize = 20)\n",
    "\n",
    "promedio_vistas_por_postulacion_por_edad_plot.set_xlabel('Edad postulantes',fontsize = 12)\n",
    "\n",
    "promedio_vistas_por_postulacion_por_edad_plot.set_ylabel('Promedio vistas/postulacion', fontsize = 12)"
   ]
  },
  {
   "cell_type": "markdown",
   "metadata": {},
   "source": [
    "Aqui al agrupar las edades en categorias puede apreciarse el aumento del promedio de vistas por postulacion de una \n",
    "forma mas sostenida, sin los picos que de subida o caida que se aprecian en un grafico de linea."
   ]
  },
  {
   "cell_type": "markdown",
   "metadata": {},
   "source": [
    "## Visitas antes/despues de postulacion"
   ]
  },
  {
   "cell_type": "markdown",
   "metadata": {},
   "source": [
    "Aqui analizamos la cantidad de visitas que los usuarios realizan a los avisos a los que se postulan. Esto quiere decir que en este analisis no tenemos en cuenta las visitas a avisos a los que no realizaron postulaciones."
   ]
  },
  {
   "cell_type": "code",
   "execution_count": 309,
   "metadata": {},
   "outputs": [
    {
     "data": {
      "text/plain": [
       "False    525913\n",
       "True       3641\n",
       "Name: visita_anterior, dtype: int64"
      ]
     },
     "execution_count": 309,
     "metadata": {},
     "output_type": "execute_result"
    }
   ],
   "source": [
    "#Agrego una columna nueva que indica si la visita realiza\n",
    "vistas_postulaciones_merged['visita_anterior'] = vistas_postulaciones_merged['Fecha_Vista'] < vistas_postulaciones_merged['Fecha_Postulacion']\n",
    "vistas_antes_despues = vistas_postulaciones_merged['visita_anterior'].value_counts()\n",
    "vistas_antes_despues\n"
   ]
  },
  {
   "cell_type": "code",
   "execution_count": 310,
   "metadata": {},
   "outputs": [
    {
     "data": {
      "image/png": "[encoded data removed]",
      "text/plain": [
       "<Figure size 432x288 with 1 Axes>"
      ]
     },
     "metadata": {},
     "output_type": "display_data"
    }
   ],
   "source": [
    "vistas_antes_despues.sort_values(ascending = True, inplace = True)\n",
    "vistas_antes_despues.index = ['Antes','Despues']\n",
    "vistas_antes_despues_plot = vistas_antes_despues.plot.bar(title = 'Vistas a avisos antes/despues de postularse', fontsize = 20)\n",
    "\n"
   ]
  },
  {
   "cell_type": "markdown",
   "metadata": {},
   "source": [
    "Aqui podemos observar claramente que los postulantes tienden a visitar los avisos mucho mas una vez que \n",
    "ya se han postulado. Esto podria significar que los postulantes no tienden a analizar demasiado los avisos\n",
    "laborales antes de postularse. Una vez que ya se postularon, sienten el deseo o necesidad de visitar los avisos nuevamente, para corroborar alguna informacion o para analizar nuevamente el aviso.\n",
    "Es sorprendente la poca cantidad de vistas que se realizan a los avisos antes de postularse en comparacion con las vistas posteriores."
   ]
  }
 ],
 "metadata": {
  "kernelspec": {
   "display_name": "Python 3",
   "language": "python",
   "name": "python3"
  },
  "language_info": {
   "codemirror_mode": {
    "name": "ipython",
    "version": 3
   },
   "file_extension": ".py",
   "mimetype": "text/x-python",
   "name": "python",
   "nbconvert_exporter": "python",
   "pygments_lexer": "ipython3",
   "version": "3.6.4"
  }
 },
 "nbformat": 4,
 "nbformat_minor": 2
}
