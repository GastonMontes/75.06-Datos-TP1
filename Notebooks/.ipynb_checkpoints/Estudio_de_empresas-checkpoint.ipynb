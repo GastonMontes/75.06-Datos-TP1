{
 "cells": [
  {
   "cell_type": "markdown",
   "metadata": {},
   "source": [
    "# Analisis de empresas"
   ]
  },
  {
   "cell_type": "markdown",
   "metadata": {},
   "source": [
    "## 1. Cargando datos"
   ]
  },
  {
   "cell_type": "code",
   "execution_count": null,
   "metadata": {},
   "outputs": [],
   "source": [
    "#Importamos las librerias\n",
    "import pandas as pd\n",
    "import numpy as np\n",
    "import matplotlib.pyplot as plt\n",
    "import seaborn as sns\n",
    "\n",
    "%matplotlib inline\n",
    "plt.style.use('default')\n",
    "plt.rcParams['figure.figsize'] = (15, 10)\n",
    "sns.set(style=\"whitegrid\")"
   ]
  },
  {
   "cell_type": "code",
   "execution_count": null,
   "metadata": {},
   "outputs": [],
   "source": [
    "# Se asume que en la misma carpeta donde esta este archivo existe otra 'datos_navent_fiuba' con los csv.\n",
    "df_postulantes_educacion = pd.read_csv(\"../Data/fiuba_1_postulantes_educacion.csv\", low_memory=False)\n",
    "df_postulantes_genero_y_edad = pd.read_csv(\"../Data/fiuba_2_postulantes_genero_y_edad.csv\", low_memory=False)\n",
    "df_vistas = pd.read_csv(\"../Data/fiuba_3_vistas.csv\", low_memory=False)\n",
    "df_postulaciones = pd.read_csv(\"../Data/fiuba_4_postulaciones.csv\", low_memory=False)\n",
    "df_aviso_online = pd.read_csv(\"../Data/fiuba_5_avisos_online.csv\", low_memory=False)\n",
    "df_avisos_detalle = pd.read_csv(\"../Data/fiuba_6_avisos_detalle.csv\", low_memory=False)"
   ]
  },
  {
   "cell_type": "markdown",
   "metadata": {},
   "source": [
    "## 2. Analisis"
   ]
  },
  {
   "cell_type": "markdown",
   "metadata": {},
   "source": [
    "### 2.1 Empresas con mas avisos"
   ]
  },
  {
   "cell_type": "code",
   "execution_count": null,
   "metadata": {},
   "outputs": [],
   "source": [
    "df_avisos_detalle = df_avisos_detalle[-df_avisos_detalle['denominacion_empresa'].isnull()]\n",
    "datos = df_avisos_detalle['denominacion_empresa'].value_counts().head(10)"
   ]
  },
  {
   "cell_type": "code",
   "execution_count": null,
   "metadata": {},
   "outputs": [],
   "source": [
    "g = sns.barplot(y=datos.index, x=datos.values, palette=sns.color_palette(\"Purples_r\", 15));\n",
    "g.set_title('Cantidad de avisos por empresa', fontsize=18);\n",
    "g.set_xlabel('Cantidad de avisos');\n",
    "g.set_ylabel('Empresa');"
   ]
  },
  {
   "cell_type": "code",
   "execution_count": null,
   "metadata": {},
   "outputs": [],
   "source": [
    "df_avisos_detalle['denominacion_empresa'].describe()"
   ]
  },
  {
   "cell_type": "markdown",
   "metadata": {},
   "source": [
    "- Se puede observar que solo 7 empresas del total tienen publicados mas 200 avisos y que las areas principales a las que pertenecen son recursos  humanos, como RANDSTAD, Manpower, Grupo Gestion, BAYTON, Adecco y IT como Solutix."
   ]
  },
  {
   "cell_type": "code",
   "execution_count": null,
   "metadata": {},
   "outputs": [],
   "source": [
    "g = (df_avisos_detalle['denominacion_empresa'].value_counts()).plot.hist(bins=50)\n",
    "g.set_title('Histograma de cantidad de avisos por empresa', fontsize=18);\n",
    "g.set_ylabel('Frecuencia');\n",
    "g.set_xlabel('Cantidad de avisos por empresa');"
   ]
  },
  {
   "cell_type": "markdown",
   "metadata": {},
   "source": [
    "- Se puede observar que la gran mayoria de las empresas tiene mucho menos de 100 avisos publicados, lo que significa que no existe un monopolio de empresas publicadoras, sino que el mercado de avisos es variado."
   ]
  },
  {
   "cell_type": "markdown",
   "metadata": {},
   "source": [
    "### 2.2 Empresas segun areas con mas avisos."
   ]
  },
  {
   "cell_type": "markdown",
   "metadata": {},
   "source": [
    "#### 2.2.1 Empresas de ventas."
   ]
  },
  {
   "cell_type": "code",
   "execution_count": null,
   "metadata": {},
   "outputs": [],
   "source": [
    "df_avisos_ventas = df_avisos_detalle[df_avisos_detalle['nombre_area'] == 'Ventas']\n",
    "datos = df_avisos_ventas['denominacion_empresa'].value_counts().head(10)"
   ]
  },
  {
   "cell_type": "code",
   "execution_count": null,
   "metadata": {},
   "outputs": [],
   "source": [
    "g = sns.barplot(x=datos.values, y=datos.index, palette=sns.color_palette(\"Greens_r\", 15))\n",
    "g.set_title('Cantidad de avisos de venta por empresa', fontsize=18);\n",
    "g.set_xlabel('Cantidad de avisos de venta');\n",
    "g.set_ylabel('Empresa');"
   ]
  },
  {
   "cell_type": "markdown",
   "metadata": {},
   "source": [
    "- Al igual que el grafico anterior se observa una gran cantidad de avisos de empresas de recursos humanos aunque aparecen otros sectores relacionados a la musica (Musimundo) y equipos industriales (Wurth)."
   ]
  },
  {
   "cell_type": "markdown",
   "metadata": {},
   "source": [
    "#### 2.2.2 Empresas del area Comercial."
   ]
  },
  {
   "cell_type": "code",
   "execution_count": null,
   "metadata": {},
   "outputs": [],
   "source": [
    "df_avisos_ventas = df_avisos_detalle[df_avisos_detalle['nombre_area'] == 'Comercial']\n",
    "datos = df_avisos_ventas['denominacion_empresa'].value_counts().head(10)"
   ]
  },
  {
   "cell_type": "code",
   "execution_count": null,
   "metadata": {},
   "outputs": [],
   "source": [
    "g = sns.barplot(x=datos.values, y=datos.index, palette=sns.color_palette(\"Reds_r\", 15))\n",
    "g.set_title('Cantidad de avisos comerciales por empresa', fontsize=18);\n",
    "g.set_xlabel('Cantidad de avisos comerciales');\n",
    "g.set_ylabel('Empresa');"
   ]
  },
  {
   "cell_type": "markdown",
   "metadata": {},
   "source": [
    "- Se observa una gran cantidad de empresas de recursos humanos, aunque ademas aparece una empresa de salud (Swiss Medical).\n",
    "- Dentro de las empresas de recursos humanos, Suministra, que se enfoca en el personal eventual, tiene una gran cantidad de avisos."
   ]
  },
  {
   "cell_type": "code",
   "execution_count": null,
   "metadata": {},
   "outputs": [],
   "source": [
    "df_avisos_detalle[df_avisos_detalle['nombre_area']=='Comercial']['denominacion_empresa'].value_counts().head()"
   ]
  },
  {
   "cell_type": "markdown",
   "metadata": {},
   "source": [
    "#### 2.2.3 Empresas del area de administracion."
   ]
  },
  {
   "cell_type": "code",
   "execution_count": null,
   "metadata": {},
   "outputs": [],
   "source": [
    "df_avisos_ventas = df_avisos_detalle[df_avisos_detalle['nombre_area'] == 'Administración']\n",
    "datos = df_avisos_ventas['denominacion_empresa'].value_counts().head(10)"
   ]
  },
  {
   "cell_type": "code",
   "execution_count": null,
   "metadata": {},
   "outputs": [],
   "source": [
    "g = sns.barplot(x=datos.values, y=datos.index, palette=sns.color_palette(\"Blues_r\", 15))\n",
    "g.set_title('Cantidad de avisos de administracion por empresa', fontsize=18);\n",
    "g.set_xlabel('Cantidad de avisos de administracion');\n",
    "g.set_ylabel('Empresa');"
   ]
  },
  {
   "cell_type": "markdown",
   "metadata": {},
   "source": [
    "- Se observa una gran cantidad de empresas de recursos humanos y que Adecco tiene un area, Adecco-Region office, centrada en avisos de administracion."
   ]
  },
  {
   "cell_type": "markdown",
   "metadata": {},
   "source": [
    "#### 2.2.4 Empresas del area de produccion."
   ]
  },
  {
   "cell_type": "code",
   "execution_count": null,
   "metadata": {},
   "outputs": [],
   "source": [
    "df_avisos_ventas = df_avisos_detalle[df_avisos_detalle['nombre_area'] == 'Producción']\n",
    "datos = df_avisos_ventas['denominacion_empresa'].value_counts().head(10)"
   ]
  },
  {
   "cell_type": "code",
   "execution_count": null,
   "metadata": {},
   "outputs": [],
   "source": [
    "g = sns.barplot(x=datos.values, y=datos.index, palette=sns.color_palette(\"magma\", 15))\n",
    "g.set_title('Cantidad de avisos de produccion por empresa', fontsize=18);\n",
    "g.set_xlabel('Cantidad de avisos de produccion');\n",
    "g.set_ylabel('Empresa');"
   ]
  },
  {
   "cell_type": "markdown",
   "metadata": {},
   "source": [
    "- Se observa que Manpower contiene una mayor cantidad de avisos en produccion que en otras areas y desplaza en cuatro niveles a Randstad, siendo que los anteriores tendian ambos a liderar los graficos.\n",
    "- Se observa que Adecco tiene dos secciones, Adecco-Region NORTE & OESTE GBA y Adecco-Region GBA SUR, para anuncios de produccion.\n",
    "- Tanto Pullmen como Grupo Gestion centran sus avisos en produccion."
   ]
  },
  {
   "cell_type": "markdown",
   "metadata": {},
   "source": [
    "#### 2.2.5 Empresas del area  de Programacion"
   ]
  },
  {
   "cell_type": "code",
   "execution_count": null,
   "metadata": {},
   "outputs": [],
   "source": [
    "df_avisos_ventas = df_avisos_detalle[df_avisos_detalle['nombre_area'] == 'Programación']\n",
    "datos = df_avisos_ventas['denominacion_empresa'].value_counts().head(10)"
   ]
  },
  {
   "cell_type": "code",
   "execution_count": null,
   "metadata": {},
   "outputs": [],
   "source": [
    "g = sns.barplot(x=datos.values, y=datos.index, palette=sns.color_palette(\"YlOrBr_r\", 15))\n",
    "g.set_title('Cantidad de avisos de programación por empresa', fontsize=18);\n",
    "g.set_xlabel('Cantidad de avisos de programación');\n",
    "g.set_ylabel('Empresa');"
   ]
  },
  {
   "cell_type": "markdown",
   "metadata": {},
   "source": [
    "- A diferencia de las areas anteriores, los avisos de programación estan dados principalmente por empresas del area de IT en vez de recursos humanos.\n",
    "- Tambien se observa una clara concentracion de avisos por SOLUTIX"
   ]
  },
  {
   "cell_type": "markdown",
   "metadata": {},
   "source": [
    "#### 2.2.6 Empresas del area de Atencion al cliente"
   ]
  },
  {
   "cell_type": "code",
   "execution_count": null,
   "metadata": {},
   "outputs": [],
   "source": [
    "df_avisos_ventas = df_avisos_detalle[df_avisos_detalle['nombre_area'] == 'Atención al Cliente']\n",
    "datos = df_avisos_ventas['denominacion_empresa'].value_counts().head(10)"
   ]
  },
  {
   "cell_type": "code",
   "execution_count": null,
   "metadata": {},
   "outputs": [],
   "source": [
    "g = sns.barplot(x=datos.values, y=datos.index, palette=sns.color_palette(\"PiYG\", 10))\n",
    "g.set_title('Cantidad de avisos de atencion al cliente por empresa', fontsize=18);\n",
    "g.set_xlabel('Cantidad de avisos de atencion al cliente');\n",
    "g.set_ylabel('Empresa');"
   ]
  },
  {
   "cell_type": "markdown",
   "metadata": {},
   "source": [
    "- Nuevamente muchas empresas de recursos humanos."
   ]
  },
  {
   "cell_type": "markdown",
   "metadata": {},
   "source": [
    "#### 2.2.7 Empresas area Call Center"
   ]
  },
  {
   "cell_type": "code",
   "execution_count": null,
   "metadata": {},
   "outputs": [],
   "source": [
    "df_avisos_ventas = df_avisos_detalle[df_avisos_detalle['nombre_area'] == 'Call Center']\n",
    "datos = df_avisos_ventas['denominacion_empresa'].value_counts().head(10)"
   ]
  },
  {
   "cell_type": "code",
   "execution_count": null,
   "metadata": {},
   "outputs": [],
   "source": [
    "g = sns.barplot(x=datos.values, y=datos.index, palette=sns.color_palette(\"RdYlBu\", 10))\n",
    "g.set_title('Cantidad de avisos de call center por empresa', fontsize=18);\n",
    "g.set_xlabel('Cantidad de avisos de call center');\n",
    "g.set_ylabel('Empresa');"
   ]
  },
  {
   "cell_type": "markdown",
   "metadata": {},
   "source": [
    "- Nuevamente RH"
   ]
  },
  {
   "cell_type": "markdown",
   "metadata": {},
   "source": [
    "### 2.3 Resumen"
   ]
  },
  {
   "cell_type": "code",
   "execution_count": null,
   "metadata": {},
   "outputs": [],
   "source": [
    "df_avisos_detalle_empresas = df_avisos_detalle[\n",
    "    df_avisos_detalle['denominacion_empresa'].str.contains('RANDSTAD') \n",
    "    | df_avisos_detalle['denominacion_empresa'].str.contains('Manpower') \n",
    "    | df_avisos_detalle['denominacion_empresa'].str.contains('Adecco')\n",
    "    | df_avisos_detalle['denominacion_empresa'].str.contains('SOLUTIX')\n",
    "    | df_avisos_detalle['denominacion_empresa'].str.contains('Pullmen')\n",
    "    | df_avisos_detalle['denominacion_empresa'].str.contains('Grupo Gestión') \n",
    "]"
   ]
  },
  {
   "cell_type": "code",
   "execution_count": null,
   "metadata": {},
   "outputs": [],
   "source": [
    "df_avisos_detalle_empresas_areas = df_avisos_detalle_empresas[\n",
    "    df_avisos_detalle_empresas['nombre_area'].isin([\n",
    "      'Ventas', 'Comercial', 'Administración', 'Producción', 'Atención al Cliente', 'Call Center', 'Programación'  \n",
    "    ])\n",
    "]"
   ]
  },
  {
   "cell_type": "code",
   "execution_count": null,
   "metadata": {},
   "outputs": [],
   "source": [
    "datos = df_avisos_detalle_empresas_areas[['nombre_area', 'denominacion_empresa']]"
   ]
  },
  {
   "cell_type": "code",
   "execution_count": null,
   "metadata": {},
   "outputs": [],
   "source": [
    "datos['empresa'] = datos['denominacion_empresa'].map(lambda x: 'Addeco' if ('Adecco' in x) else ('Manpower' if ('Manpower' in x) else x))"
   ]
  },
  {
   "cell_type": "code",
   "execution_count": null,
   "metadata": {},
   "outputs": [],
   "source": [
    "datos = datos[['nombre_area', 'empresa']]\n",
    "datos['nivel'] =1"
   ]
  },
  {
   "cell_type": "code",
   "execution_count": null,
   "metadata": {},
   "outputs": [],
   "source": [
    "tabla = datos.pivot_table(index='empresa', columns='nombre_area', values='nivel', aggfunc='sum')"
   ]
  },
  {
   "cell_type": "code",
   "execution_count": null,
   "metadata": {},
   "outputs": [],
   "source": [
    "g = sns.heatmap(tabla, cmap='Reds', linewidths=.5)\n",
    "g.set_title('Cantidad de avisos de empresa segun area', fontsize=18);\n",
    "g.set_xlabel('Area');\n",
    "g.set_ylabel('Empresa');"
   ]
  },
  {
   "cell_type": "markdown",
   "metadata": {},
   "source": [
    "Conclusion:\n",
    "- La gran mayoria de lo avisos vienen de empresas de recursos humanos, exceptuando programacion en la cual la mayoria de las empresas son de la misma area.\n",
    "- Las principales empresas centran sus avisos en las areas de produccion, administracion, comercial y ventas.\n",
    "- Aun asi, los avisos no se centran en unas cuantas empresas sino que son muchas que publican pocos avisos."
   ]
  },
  {
   "cell_type": "markdown",
   "metadata": {},
   "source": [
    "### 2.4 Analisis segun nivel laboral"
   ]
  },
  {
   "cell_type": "code",
   "execution_count": null,
   "metadata": {},
   "outputs": [],
   "source": [
    "df_avisos_detalle_senior = df_avisos_detalle[df_avisos_detalle['nivel_laboral'].str.contains('Senior')]\n",
    "df_avisos_detalle_junior = df_avisos_detalle[df_avisos_detalle['nivel_laboral'].str.contains('Junior')]\n",
    "df_avisos_detalle_jefe = df_avisos_detalle[df_avisos_detalle['nivel_laboral'].str.contains('Jefe')]\n",
    "df_avisos_detalle_gerencia = df_avisos_detalle[df_avisos_detalle['nivel_laboral'].str.contains('Gerencia')]"
   ]
  },
  {
   "cell_type": "markdown",
   "metadata": {},
   "source": [
    "####  2.4.1 Nivel Junior"
   ]
  },
  {
   "cell_type": "code",
   "execution_count": null,
   "metadata": {},
   "outputs": [],
   "source": [
    "datos = df_avisos_detalle_junior['denominacion_empresa'].value_counts().head(10)"
   ]
  },
  {
   "cell_type": "code",
   "execution_count": null,
   "metadata": {},
   "outputs": [],
   "source": [
    "g = sns.barplot(y=datos.index, x=datos.values, palette=sns.color_palette(\"BuGn_r\", 15))\n",
    "g.set_title('Cantidad de avisos nivel Junior segun empresa', fontsize=18);\n",
    "g.set_xlabel('Cantidad de avisos');\n",
    "g.set_ylabel('Empresa');"
   ]
  },
  {
   "cell_type": "markdown",
   "metadata": {},
   "source": [
    "#### 2.4.2 Nivel Senior"
   ]
  },
  {
   "cell_type": "code",
   "execution_count": null,
   "metadata": {},
   "outputs": [],
   "source": [
    "datos = df_avisos_detalle_senior['denominacion_empresa'].value_counts().head(10)"
   ]
  },
  {
   "cell_type": "code",
   "execution_count": null,
   "metadata": {},
   "outputs": [],
   "source": [
    "g = sns.barplot(y=datos.index, x=datos.values, palette=sns.color_palette(\"GnBu_d\",15))\n",
    "g.set_title('Cantidad de avisos nivel Senior segun empresa', fontsize=18);\n",
    "g.set_xlabel('Cantidad de avisos');\n",
    "g.set_ylabel('Empresa');"
   ]
  },
  {
   "cell_type": "markdown",
   "metadata": {},
   "source": [
    "#### 2.4.3 Nivel Jefe"
   ]
  },
  {
   "cell_type": "code",
   "execution_count": null,
   "metadata": {},
   "outputs": [],
   "source": [
    "datos = df_avisos_detalle_jefe['denominacion_empresa'].value_counts().head(10)"
   ]
  },
  {
   "cell_type": "code",
   "execution_count": null,
   "metadata": {},
   "outputs": [],
   "source": [
    "g = sns.barplot(y=datos.index, x=datos.values, palette=sns.cubehelix_palette(10, reverse=True))\n",
    "g.set_title('Cantidad de avisos nivel Jefe segun empresa', fontsize=18);\n",
    "g.set_xlabel('Cantidad de avisos');\n",
    "g.set_ylabel('Empresa');"
   ]
  },
  {
   "cell_type": "markdown",
   "metadata": {},
   "source": [
    "#### 2.4.4 Nivel Gerencia\n"
   ]
  },
  {
   "cell_type": "code",
   "execution_count": null,
   "metadata": {},
   "outputs": [],
   "source": [
    "datos = df_avisos_detalle_gerencia['denominacion_empresa'].value_counts().head(10)"
   ]
  },
  {
   "cell_type": "code",
   "execution_count": null,
   "metadata": {},
   "outputs": [],
   "source": [
    "g = sns.barplot(y=datos.index, x=datos.values, palette=sns.color_palette(\"OrRd_d\",15))\n",
    "g.set_title('Cantidad de avisos nivel Gerencia segun empresa', fontsize=18);\n",
    "g.set_xlabel('Cantidad de avisos');\n",
    "g.set_ylabel('Empresa');"
   ]
  },
  {
   "cell_type": "markdown",
   "metadata": {},
   "source": [
    "Conclusion:\n",
    "- Suministra es la empresa con mas avisos de nivel Junior.\n",
    "- Manpower y Randstad se posicionan en el top de todos los niveles.\n",
    "- Las empresas de IT buscan especialment niveles Senior (Solutix) y Jefe (CrossOver), mientras que las de recursos humanos buscan en todos los niveles.\n",
    "- Las empresas del area de produccion, como Adecco SUR y NORTE, tienen una gran cantidad de avisos en nivel Junior.\n"
   ]
  },
  {
   "cell_type": "markdown",
   "metadata": {},
   "source": [
    "## 2.5 Empresas segun postulaciones y vistas."
   ]
  },
  {
   "cell_type": "markdown",
   "metadata": {},
   "source": [
    "### 2.5.1 Empresas segun postulaciones"
   ]
  },
  {
   "cell_type": "code",
   "execution_count": null,
   "metadata": {},
   "outputs": [],
   "source": [
    "df_postulaciones_avisos = pd.merge(df_postulaciones, df_avisos_detalle, on='idaviso', how='inner')"
   ]
  },
  {
   "cell_type": "code",
   "execution_count": null,
   "metadata": {},
   "outputs": [],
   "source": [
    "datos_postulaciones = df_postulaciones_avisos['denominacion_empresa'].value_counts().head(10)"
   ]
  },
  {
   "cell_type": "code",
   "execution_count": null,
   "metadata": {},
   "outputs": [],
   "source": [
    "g = sns.barplot(x=datos_postulaciones.values, y=datos_postulaciones.index, palette=sns.color_palette(\"PuBuGn_r\",15))\n",
    "g.set_title('Cantidad de postulaciones a empresas', fontsize=18);\n",
    "g.set_xlabel('Cantidad de postulaciones');\n",
    "g.set_ylabel('Empresa');"
   ]
  },
  {
   "cell_type": "markdown",
   "metadata": {},
   "source": [
    "- Manpower y Randstad siguen encabezando los rankings, pero ademas surgen dos empresas nuevas que son Farmacity y BBVA Frances."
   ]
  },
  {
   "cell_type": "markdown",
   "metadata": {},
   "source": [
    "### 2.5.2 Empresas segun vistas."
   ]
  },
  {
   "cell_type": "code",
   "execution_count": null,
   "metadata": {},
   "outputs": [],
   "source": [
    "df_vistas.rename(columns={'idAviso':'idaviso'}, inplace=True)"
   ]
  },
  {
   "cell_type": "code",
   "execution_count": null,
   "metadata": {},
   "outputs": [],
   "source": [
    "df_vistas_avisos = pd.merge(df_vistas, df_avisos_detalle, on='idaviso', how='inner')"
   ]
  },
  {
   "cell_type": "code",
   "execution_count": null,
   "metadata": {},
   "outputs": [],
   "source": [
    "datos_vistas = df_vistas_avisos['denominacion_empresa'].value_counts().head(10)"
   ]
  },
  {
   "cell_type": "code",
   "execution_count": null,
   "metadata": {},
   "outputs": [],
   "source": [
    "g = sns.barplot(x=datos_vistas.values, y=datos_vistas.index, palette=sns.color_palette(\"RdYlBu_r\",15))\n",
    "g.set_title('Cantidad de vistas a empresas', fontsize=18);\n",
    "g.set_xlabel('Cantidad de vistas');\n",
    "g.set_ylabel('Empresa');"
   ]
  },
  {
   "cell_type": "markdown",
   "metadata": {},
   "source": [
    "### 2.5.3 Ratio Vistas/Postulaciones"
   ]
  },
  {
   "cell_type": "code",
   "execution_count": null,
   "metadata": {},
   "outputs": [],
   "source": [
    "datos_vistas = df_vistas_avisos['denominacion_empresa'].value_counts()\n",
    "datos_postulaciones = df_postulaciones_avisos['denominacion_empresa'].value_counts()"
   ]
  },
  {
   "cell_type": "code",
   "execution_count": null,
   "metadata": {},
   "outputs": [],
   "source": [
    "df_datos_postulaciones = pd.DataFrame(datos_postulaciones)\n",
    "df_datos_vistas = pd.DataFrame(datos_vistas)"
   ]
  },
  {
   "cell_type": "code",
   "execution_count": null,
   "metadata": {},
   "outputs": [],
   "source": [
    "df_datos_postulaciones.reset_index(inplace=True)"
   ]
  },
  {
   "cell_type": "code",
   "execution_count": null,
   "metadata": {},
   "outputs": [],
   "source": [
    "df_datos_postulaciones.rename(columns={'index':'empresa', 'denominacion_empresa':'postulaciones'}, inplace=True)"
   ]
  },
  {
   "cell_type": "code",
   "execution_count": null,
   "metadata": {},
   "outputs": [],
   "source": [
    "df_datos_vistas.reset_index(inplace=True)"
   ]
  },
  {
   "cell_type": "code",
   "execution_count": null,
   "metadata": {},
   "outputs": [],
   "source": [
    "df_datos_vistas.rename(columns={'index':'empresa', 'denominacion_empresa':'vistas'}, inplace=True)"
   ]
  },
  {
   "cell_type": "code",
   "execution_count": null,
   "metadata": {},
   "outputs": [],
   "source": [
    "datos = pd.merge(df_datos_postulaciones, df_datos_vistas, on='empresa', how='inner')"
   ]
  },
  {
   "cell_type": "code",
   "execution_count": null,
   "metadata": {},
   "outputs": [],
   "source": [
    "datos['ratio'] = datos['postulaciones'] / datos['vistas']"
   ]
  },
  {
   "cell_type": "code",
   "execution_count": null,
   "metadata": {},
   "outputs": [],
   "source": [
    "g = sns.regplot('postulaciones', 'vistas', data=datos, scatter_kws={'alpha':0.5})\n",
    "g.set_title('Postulaciones vs Vistas por empresa', fontsize=18);\n",
    "g.set_xlabel('Postulaciones');\n",
    "g.set_ylabel('Vistas');"
   ]
  },
  {
   "cell_type": "markdown",
   "metadata": {},
   "source": [
    "Conclusion:\n",
    "- Para la gran mayoria de las empresas se da que tienen menos de 2000 postulaciones y menos de 5000 vistas.\n",
    "- Las postulacioes y vistas crecen de manera lineal.\n",
    "- Solo 4 empresas tienen sobre 80000 postulaciones, que como vimos anteriormente pertenecen a RANDSTAD, Grupo gestion, Adecco-office y Manpower."
   ]
  },
  {
   "cell_type": "code",
   "execution_count": null,
   "metadata": {},
   "outputs": [],
   "source": [
    "datos[(datos['postulaciones']>1000) & (datos['vistas'] > 1000)].sort_values('ratio', ascending=True)"
   ]
  },
  {
   "cell_type": "markdown",
   "metadata": {},
   "source": [
    "## 3. Empresas por zona"
   ]
  },
  {
   "cell_type": "code",
   "execution_count": null,
   "metadata": {},
   "outputs": [],
   "source": [
    "df_avisos_detalle['nombre_zona'].value_counts()"
   ]
  },
  {
   "cell_type": "code",
   "execution_count": null,
   "metadata": {},
   "outputs": [],
   "source": [
    "df_avisos_capital = df_avisos_detalle[df_avisos_detalle['nombre_zona'] == 'Capital Federal']"
   ]
  },
  {
   "cell_type": "code",
   "execution_count": null,
   "metadata": {},
   "outputs": [],
   "source": [
    "df_avisos_GBA = df_avisos_detalle[df_avisos_detalle['nombre_zona'] == 'Gran Buenos Aires']"
   ]
  },
  {
   "cell_type": "code",
   "execution_count": null,
   "metadata": {},
   "outputs": [],
   "source": [
    "datos_capital = df_avisos_capital['denominacion_empresa'].value_counts().head(10)"
   ]
  },
  {
   "cell_type": "code",
   "execution_count": null,
   "metadata": {},
   "outputs": [],
   "source": [
    "datos_GBA = df_avisos_GBA['denominacion_empresa'].value_counts().head(10)"
   ]
  },
  {
   "cell_type": "code",
   "execution_count": null,
   "metadata": {},
   "outputs": [],
   "source": [
    "g = sns.barplot(y=datos_capital.index, x=datos_capital.values)\n",
    "g.set_title('Cantidad de avisos segun empresa en Capital Federal', fontsize=18);\n",
    "g.set_xlabel('Cantidad de avisos');\n",
    "g.set_ylabel('Empresa');"
   ]
  },
  {
   "cell_type": "code",
   "execution_count": null,
   "metadata": {},
   "outputs": [],
   "source": [
    "g = sns.barplot(y=datos_GBA.index, x=datos_GBA.values)\n",
    "g.set_title('Cantidad de avisos segun empresa en Gran Buenos Aires', fontsize=18);\n",
    "g.set_xlabel('Cantidad de avisos');\n",
    "g.set_ylabel('Empresa');"
   ]
  },
  {
   "cell_type": "markdown",
   "metadata": {},
   "source": [
    "Conclusiones\n",
    "- Las empresas con mas avisos prefieren publicarlos en GBA y ni si quiera aparecen en el ranking de capital.\n",
    "- La diferencia entre empresas de capital y GBA son muy notorias, ninguna empresa del ranking de GBA aparece en capital y viceversa.\n",
    "- Los avisos en capital estan fuertemente dominados por 'Excelencia Laboral' , mientras que en GBA la empresa puntera es RANDSTAD"
   ]
  },
  {
   "cell_type": "markdown",
   "metadata": {},
   "source": [
    "## 4. Preferencia a empresas segun sexo."
   ]
  },
  {
   "cell_type": "code",
   "execution_count": null,
   "metadata": {},
   "outputs": [],
   "source": [
    "df_mujeres = df_postulantes_genero_y_edad[df_postulantes_genero_y_edad['sexo'] == 'FEM']\n",
    "df_hombres = df_postulantes_genero_y_edad[df_postulantes_genero_y_edad['sexo'] == 'MASC']"
   ]
  },
  {
   "cell_type": "code",
   "execution_count": null,
   "metadata": {},
   "outputs": [],
   "source": [
    "df_postulaciones_mujeres = pd.merge(df_mujeres, df_postulaciones, on='idpostulante', how='inner')\n",
    "df_postulaciones_hombres = pd.merge(df_hombres, df_postulaciones, on='idpostulante', how='inner')"
   ]
  },
  {
   "cell_type": "code",
   "execution_count": null,
   "metadata": {},
   "outputs": [],
   "source": [
    "df_avisos_detalle_mujeres = pd.merge(df_avisos_detalle, df_postulaciones_mujeres, on='idaviso', how='inner')\n",
    "df_avisos_detalle_hombres = pd.merge(df_avisos_detalle, df_postulaciones_hombres, on='idaviso', how='inner')"
   ]
  },
  {
   "cell_type": "code",
   "execution_count": null,
   "metadata": {},
   "outputs": [],
   "source": [
    "ranking_mujeres = df_avisos_detalle_mujeres['denominacion_empresa'].value_counts().head(10)\n",
    "ranking_hombres = df_avisos_detalle_hombres['denominacion_empresa'].value_counts().head(10)"
   ]
  },
  {
   "cell_type": "code",
   "execution_count": null,
   "metadata": {},
   "outputs": [],
   "source": [
    "g = sns.barplot(y=ranking_mujeres.index, x=ranking_mujeres.values)\n",
    "g.set_title('Cantidad de publicaciones de mujeres a empresas', fontsize=18);\n",
    "g.set_xlabel('Cantidad de publicaciones');\n",
    "g.set_ylabel('Empresas');"
   ]
  },
  {
   "cell_type": "code",
   "execution_count": null,
   "metadata": {},
   "outputs": [],
   "source": [
    "g = sns.barplot(y=ranking_hombres.index, x=ranking_hombres.values)\n",
    "g.set_title('Cantidad de publicaciones de hombres a empresas', fontsize=18);\n",
    "g.set_xlabel('Cantidad de publicaciones');\n",
    "g.set_ylabel('Empresas');"
   ]
  },
  {
   "cell_type": "markdown",
   "metadata": {},
   "source": [
    "Conclusion:\n",
    "- Las grandes empresas se siguen posicionando en lo alto de los rankings.\n",
    "- Adecco-Region Office es la division de Adecco preferida tanto por hombres y mujeres, mientras que las divisiones NORTE & OESTE GBA y SUR GBA son mas preferidas por hombres.\n",
    "- Farmacity y BBVA Frances tiene una fuerte preferencia por publicaciones de mujeres."
   ]
  },
  {
   "cell_type": "markdown",
   "metadata": {},
   "source": [
    "## 5. Preferencia a empresas segun edad."
   ]
  },
  {
   "cell_type": "markdown",
   "metadata": {},
   "source": [
    "## 6. Preferencia segun nivel de educacion"
   ]
  },
  {
   "cell_type": "markdown",
   "metadata": {},
   "source": [
    "## 7. Conclusion\n"
   ]
  },
  {
   "cell_type": "markdown",
   "metadata": {},
   "source": [
    "Existe una gran cantidad de empresas publicando avisos, aunque por lo general la cantidad de avisos es reducida. Aun asi alguas sobresalen con una cantidad mucho mayor al resto logrando tener avisos en cada una de las areas principales, como lo son RANDSTAD, Manpower, Grupo Gestion, Adecco publicando especialmente en el Gran Buenos Aires.\n",
    "Curiosamente estas mismas no tienen un gran impacto en el area de IT, en el cual el mercado esta dominado por SOLUTIX."
   ]
  },
  {
   "cell_type": "code",
   "execution_count": null,
   "metadata": {},
   "outputs": [],
   "source": []
  }
 ],
 "metadata": {
  "kernelspec": {
   "display_name": "Python 3",
   "language": "python",
   "name": "python3"
  },
  "language_info": {
   "codemirror_mode": {
    "name": "ipython",
    "version": 3
   },
   "file_extension": ".py",
   "mimetype": "text/x-python",
   "name": "python",
   "nbconvert_exporter": "python",
   "pygments_lexer": "ipython3",
   "version": "3.5.2"
  }
 },
 "nbformat": 4,
 "nbformat_minor": 2
}
